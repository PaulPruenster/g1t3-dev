{
 "cells": [
  {
   "attachments": {},
   "cell_type": "markdown",
   "metadata": {},
   "source": [
    "# Python Crash Course\n",
    "\n",
    "*Based on [Python Crash Course — Part 1](https://medium.com/coders-mojo/python-crash-course-part-1-a5f42f7b7124)*"
   ]
  },
  {
   "attachments": {},
   "cell_type": "markdown",
   "metadata": {},
   "source": [
    "## Zen of Python\n",
    "\n",
    "Some principles of Python are hidden as an *Easter egg* in Python itself:"
   ]
  },
  {
   "cell_type": "code",
   "execution_count": 3,
   "metadata": {},
   "outputs": [],
   "source": [
    "import this\n",
    "# ↺ restart kernel to see the message again"
   ]
  },
  {
   "attachments": {},
   "cell_type": "markdown",
   "metadata": {},
   "source": [
    "## Built-In Types\n",
    "\n",
    "Summary of some build-in types.\n",
    "\n",
    "\n",
    "\n",
    "**Numeric**\n",
    "\n",
    "- `bool`\n",
    "- `int`\n",
    "- `float`\n",
    "- `complex`\n",
    "\n",
    "**Sequences/Collections**\n",
    "\n",
    "- `str`\n",
    "- `dict`\n",
    "- `list`\n",
    "- `tuple`\n",
    "- `range`\n",
    "- `set`\n",
    "\n",
    "**Binary Sequence**\n",
    "- `bytearray`\n",
    "- `bytes`\n",
    "\n",
    "\n",
    "\n",
    "\n"
   ]
  },
  {
   "attachments": {},
   "cell_type": "markdown",
   "metadata": {},
   "source": [
    "### Examples"
   ]
  },
  {
   "cell_type": "code",
   "execution_count": 4,
   "metadata": {},
   "outputs": [
    {
     "name": "stdout",
     "output_type": "stream",
     "text": [
      "36\n",
      "<class 'int'>\n"
     ]
    }
   ],
   "source": [
    "x = 36\n",
    "print(x)\n",
    "print(type(x))"
   ]
  },
  {
   "cell_type": "code",
   "execution_count": 5,
   "metadata": {},
   "outputs": [
    {
     "name": "stdout",
     "output_type": "stream",
     "text": [
      "3.1415\n",
      "<class 'float'>\n"
     ]
    }
   ],
   "source": [
    "y = 3.1415\n",
    "print(y)\n",
    "print(type(y))"
   ]
  },
  {
   "attachments": {},
   "cell_type": "markdown",
   "metadata": {},
   "source": [
    "## Strings\n",
    "\n",
    "Strings can either be defined with single quotes `'` or with double quotes `\"` (try to stick to one).  \n",
    "Like in Java strings are immutable and escaping is done with `\\` (e.g. `\\n`, `\\t\\`)."
   ]
  },
  {
   "cell_type": "code",
   "execution_count": 6,
   "metadata": {},
   "outputs": [
    {
     "name": "stdout",
     "output_type": "stream",
     "text": [
      "Hello World!\n",
      "Hello World!\n",
      "Hello\n",
      "    World!\n",
      "True\n"
     ]
    }
   ],
   "source": [
    "string1 = \"Hello World!\"\n",
    "string2 = 'Hello World!'\n",
    "string3 = \"\"\"Hello\n",
    "    World!\"\"\"\n",
    "\n",
    "print(string1)\n",
    "print(string2)\n",
    "print(string3)\n",
    "\n",
    "print(string1 == string2)"
   ]
  },
  {
   "attachments": {},
   "cell_type": "markdown",
   "metadata": {},
   "source": [
    "As mentioned above stings are a special type of sequences and thus can be manipulated as such."
   ]
  },
  {
   "cell_type": "code",
   "execution_count": 7,
   "metadata": {},
   "outputs": [
    {
     "name": "stdout",
     "output_type": "stream",
     "text": [
      "r\n",
      "l\n",
      "orl\n",
      "loWr\n",
      "!dlroW olleH\n"
     ]
    }
   ],
   "source": [
    "r = string1[8]\n",
    "l = string2[-3]\n",
    "\n",
    "orl = string1[7:10]\n",
    "second = string2[2:10:2]\n",
    "reversed = string1[::-1]\n",
    "\n",
    "print(r)\n",
    "print(l)\n",
    "print(orl)\n",
    "print(second)\n",
    "print(reversed)"
   ]
  },
  {
   "attachments": {},
   "cell_type": "markdown",
   "metadata": {},
   "source": [
    "### Common String Methods\n",
    "\n",
    "- `lower()` - Return lowercased string\n",
    "- `upper()` - Return uppercased string\n",
    "- `split()` - Split strings\n",
    "- `isdigit()` - Checks if only digit characters\n",
    "- `islower()` - Checks if all alpha lowercase characters\n",
    "- `isupper()` - Checks if all alpha are uppercase characters\n",
    "- `startwith()` - Checks if string starts with specified string\n",
    "- `endswith()` - Checks if string ends with specified string\n",
    "- `join()` - Return string as concatenation of sequence\n"
   ]
  },
  {
   "attachments": {},
   "cell_type": "markdown",
   "metadata": {},
   "source": [
    "### F-Strings\n",
    "\n",
    "F-Strings allow string formatting/interpolation with expressions that are evaluated at runtime. This makes it easy to format strings with variables.\n",
    "\n",
    "Do create a f-string simply prefix your string with a `f` and put the expressions/variables into curly braces."
   ]
  },
  {
   "cell_type": "code",
   "execution_count": 8,
   "metadata": {},
   "outputs": [
    {
     "name": "stdout",
     "output_type": "stream",
     "text": [
      "Hello Python!\n",
      "Sum: 7\n",
      "Goodbye PYTHON\n"
     ]
    }
   ],
   "source": [
    "name = \"Python\"\n",
    "print(f'Hello {name}!')\n",
    "\n",
    "x = 3\n",
    "y = 4\n",
    "print(f'Sum: {3 + 4}') \n",
    "\n",
    "print(f'Goodbye {name.upper()}')"
   ]
  },
  {
   "attachments": {},
   "cell_type": "markdown",
   "metadata": {},
   "source": [
    "## Lists\n",
    "\n",
    "Lists are ordered collections used to store objects. In Python these objects don't need to be of the same type. Lists are in vritually every (nontrivial) Python program. Knowing how to handle them makes readind and writing Python a lot easier."
   ]
  },
  {
   "attachments": {},
   "cell_type": "markdown",
   "metadata": {},
   "source": [
    "### Creating lists\n",
    "\n",
    "Lists can be created by placing items between square brackets."
   ]
  },
  {
   "cell_type": "code",
   "execution_count": 9,
   "metadata": {},
   "outputs": [
    {
     "name": "stdout",
     "output_type": "stream",
     "text": [
      "['cat', 'dog', 1, True, 0.1234]\n",
      "There are 5 items in the list.\n",
      "<class 'list'>\n"
     ]
    }
   ],
   "source": [
    "things = ['cat', 'dog', 1, True, 0.1234]\n",
    "\n",
    "print(things)\n",
    "print(f'There are {len(things)} items in the list.')\n",
    "print(type(things))"
   ]
  },
  {
   "attachments": {},
   "cell_type": "markdown",
   "metadata": {},
   "source": [
    "### Accessing lists"
   ]
  },
  {
   "attachments": {},
   "cell_type": "markdown",
   "metadata": {},
   "source": [
    "\n",
    "#### Accessing by index\n"
   ]
  },
  {
   "cell_type": "code",
   "execution_count": 10,
   "metadata": {},
   "outputs": [
    {
     "name": "stdout",
     "output_type": "stream",
     "text": [
      "banana\n",
      "strawberry\n"
     ]
    }
   ],
   "source": [
    "fruits = ['apple', 'orange', 'banana', 'kiwi', 'strawberry']\n",
    "third = fruits[2]\n",
    "last = fruits[-1]\n",
    "print(third)\n",
    "print(last)"
   ]
  },
  {
   "attachments": {},
   "cell_type": "markdown",
   "metadata": {},
   "source": [
    "\n",
    "#### Slicing\n"
   ]
  },
  {
   "cell_type": "code",
   "execution_count": 11,
   "metadata": {},
   "outputs": [
    {
     "name": "stdout",
     "output_type": "stream",
     "text": [
      "['orange', 'banana', 'kiwi']\n"
     ]
    }
   ],
   "source": [
    "fruits = ['apple', 'orange', 'banana', 'kiwi', 'strawberry']\n",
    "print(fruits[1:4])\n"
   ]
  },
  {
   "attachments": {},
   "cell_type": "markdown",
   "metadata": {},
   "source": [
    "### Lists manipulation"
   ]
  },
  {
   "attachments": {},
   "cell_type": "markdown",
   "metadata": {},
   "source": [
    "#### Appending"
   ]
  },
  {
   "cell_type": "code",
   "execution_count": 12,
   "metadata": {},
   "outputs": [
    {
     "name": "stdout",
     "output_type": "stream",
     "text": [
      "['apple', 'orange', 'banana', 'kiwi', 'strawberry', 'lemon']\n"
     ]
    }
   ],
   "source": [
    "fruit = 'lemon'\n",
    "fruits.append(fruit)\n",
    "print(fruits)"
   ]
  },
  {
   "attachments": {},
   "cell_type": "markdown",
   "metadata": {},
   "source": [
    "#### Deleting"
   ]
  },
  {
   "cell_type": "code",
   "execution_count": 13,
   "metadata": {},
   "outputs": [
    {
     "name": "stdout",
     "output_type": "stream",
     "text": [
      "['apple', 'banana', 'kiwi', 'strawberry', 'lemon']\n"
     ]
    }
   ],
   "source": [
    "del fruits[1]\n",
    "print(fruits)"
   ]
  },
  {
   "attachments": {},
   "cell_type": "markdown",
   "metadata": {},
   "source": [
    "\n",
    "#### Concatenating\n"
   ]
  },
  {
   "cell_type": "code",
   "execution_count": 14,
   "metadata": {},
   "outputs": [
    {
     "name": "stdout",
     "output_type": "stream",
     "text": [
      "['apple', 'banana', 'kiwi', 'strawberry', 'lemon', 'lime', 'mango']\n"
     ]
    }
   ],
   "source": [
    "more_fruits = fruits + ['lime', 'mango']\n",
    "print(more_fruits)"
   ]
  },
  {
   "attachments": {},
   "cell_type": "markdown",
   "metadata": {},
   "source": [
    "\n",
    "#### Replication/Multiplication\n"
   ]
  },
  {
   "cell_type": "code",
   "execution_count": 15,
   "metadata": {},
   "outputs": [
    {
     "name": "stdout",
     "output_type": "stream",
     "text": [
      "['apple', 'banana', 'kiwi', 'strawberry', 'lemon', 'apple', 'banana', 'kiwi', 'strawberry', 'lemon', 'apple', 'banana', 'kiwi', 'strawberry', 'lemon']\n"
     ]
    }
   ],
   "source": [
    "many_more_fruits = fruits * 3\n",
    "print(many_more_fruits)"
   ]
  },
  {
   "attachments": {},
   "cell_type": "markdown",
   "metadata": {},
   "source": [
    "\n",
    "#### Sorting\n"
   ]
  },
  {
   "cell_type": "code",
   "execution_count": 16,
   "metadata": {},
   "outputs": [
    {
     "name": "stdout",
     "output_type": "stream",
     "text": [
      "['apple', 'banana', 'kiwi', 'lemon', 'strawberry']\n"
     ]
    }
   ],
   "source": [
    "sorted_list = sorted(fruits)\n",
    "print(sorted_list)"
   ]
  },
  {
   "attachments": {},
   "cell_type": "markdown",
   "metadata": {},
   "source": [
    "### Working with lists"
   ]
  },
  {
   "attachments": {},
   "cell_type": "markdown",
   "metadata": {},
   "source": [
    "#### Membership test\n",
    "\n",
    "Use `in` to check if a item is in the list.\n"
   ]
  },
  {
   "cell_type": "code",
   "execution_count": 17,
   "metadata": {},
   "outputs": [
    {
     "name": "stdout",
     "output_type": "stream",
     "text": [
      "False\n",
      "True\n"
     ]
    }
   ],
   "source": [
    "print('car' in fruits)\n",
    "print('apple' in fruits)"
   ]
  },
  {
   "attachments": {},
   "cell_type": "markdown",
   "metadata": {},
   "source": [
    "#### Iterating\n"
   ]
  },
  {
   "cell_type": "code",
   "execution_count": 18,
   "metadata": {},
   "outputs": [
    {
     "name": "stdout",
     "output_type": "stream",
     "text": [
      "apple is in list\n",
      "banana is in list\n",
      "kiwi is in list\n",
      "strawberry is in list\n",
      "lemon is in list\n"
     ]
    }
   ],
   "source": [
    "for x in fruits:\n",
    "    print(f'{x} is in list')\n"
   ]
  },
  {
   "attachments": {},
   "cell_type": "markdown",
   "metadata": {},
   "source": [
    "#### Min/max"
   ]
  },
  {
   "cell_type": "code",
   "execution_count": 19,
   "metadata": {},
   "outputs": [
    {
     "name": "stdout",
     "output_type": "stream",
     "text": [
      "apple\n",
      "strawberry\n"
     ]
    }
   ],
   "source": [
    "print(min(fruits))\n",
    "print(max(fruits))"
   ]
  },
  {
   "attachments": {},
   "cell_type": "markdown",
   "metadata": {},
   "source": [
    "### List Comprehensions\n",
    "\n",
    "List comprehensions is a nice syntax to work on lists. It is also a common pattern to use list comprehensions to create new lists from existing ones."
   ]
  },
  {
   "cell_type": "code",
   "execution_count": 20,
   "metadata": {},
   "outputs": [
    {
     "name": "stdout",
     "output_type": "stream",
     "text": [
      "[1, 3]\n",
      "[2, 4, 8, 16]\n"
     ]
    }
   ],
   "source": [
    "numbers = [1,2,3,4]\n",
    "even = [x for x in numbers if x % 2]\n",
    "print(even)\n",
    "\n",
    "\n",
    "squared = [2**x for x in numbers]\n",
    "print(squared)"
   ]
  },
  {
   "attachments": {},
   "cell_type": "markdown",
   "metadata": {},
   "source": [
    "## Tuples\n",
    "\n",
    "Tuples are similar to lists and (almost) all examples above work with tuples.\n",
    "\n",
    "Differences to lists:\n",
    "\n",
    "- tuples are created by parentheses (`()`) instead of square brackets (`[]`).\n",
    "- tuples are immutable"
   ]
  },
  {
   "cell_type": "code",
   "execution_count": 21,
   "metadata": {},
   "outputs": [],
   "source": [
    "fruits = ('apple', 'cherry', 'banana')\n",
    "\n",
    "# TypeError: 'tuple' object doesn't support item deletion\n",
    "# del fruits[1]"
   ]
  },
  {
   "attachments": {},
   "cell_type": "markdown",
   "metadata": {},
   "source": [
    "### Packing and unpacking\n",
    "\n",
    "Python allows easy packing and unpacking of tuples."
   ]
  },
  {
   "attachments": {},
   "cell_type": "markdown",
   "metadata": {},
   "source": [
    "#### Packing\n",
    "\n",
    "Packing is the process of assigning several items to a single object.\n"
   ]
  },
  {
   "cell_type": "code",
   "execution_count": 22,
   "metadata": {},
   "outputs": [
    {
     "name": "stdout",
     "output_type": "stream",
     "text": [
      "('one', 'two', 3)\n"
     ]
    }
   ],
   "source": [
    "packed = ('one', 'two', 3)\n",
    "print(packed)"
   ]
  },
  {
   "attachments": {},
   "cell_type": "markdown",
   "metadata": {},
   "source": [
    "#### Unpacking\n",
    "\n",
    "**Unpacking** is the process of assigning a single object to a several items."
   ]
  },
  {
   "cell_type": "code",
   "execution_count": 23,
   "metadata": {},
   "outputs": [
    {
     "name": "stdout",
     "output_type": "stream",
     "text": [
      "one\n",
      "two\n",
      "3\n"
     ]
    }
   ],
   "source": [
    "(x, y, z) = packed\n",
    "\n",
    "print(x)\n",
    "print(y)\n",
    "print(z)"
   ]
  },
  {
   "cell_type": "markdown",
   "metadata": {},
   "source": [
    "Combining packing and unpacking allows to assigning multiple values."
   ]
  },
  {
   "cell_type": "code",
   "execution_count": 24,
   "metadata": {},
   "outputs": [
    {
     "name": "stdout",
     "output_type": "stream",
     "text": [
      "apple\n",
      "banana\n",
      "coconut\n"
     ]
    }
   ],
   "source": [
    "(a, b, c) = 'apple', 'banana', 'coconut'\n",
    "\n",
    "print(a)\n",
    "print(b)\n",
    "print(c)"
   ]
  },
  {
   "attachments": {},
   "cell_type": "markdown",
   "metadata": {},
   "source": [
    "## Dictionaries\n",
    "\n",
    "Together with lists and tuples, dictionaries are the most common collections in Python.\n",
    "\n",
    "Dictionaries are used to store key-value pairs in an ordered manner (since Python 3.7)."
   ]
  },
  {
   "attachments": {},
   "cell_type": "markdown",
   "metadata": {},
   "source": [
    "### Creating dictionaries\n",
    "\n",
    "Dictionaries can be created by placing the key-value pairs between curly braces."
   ]
  },
  {
   "cell_type": "code",
   "execution_count": 25,
   "metadata": {},
   "outputs": [
    {
     "name": "stdout",
     "output_type": "stream",
     "text": [
      "{'firstName': 'John', 'lastName': 'Doe', 'age': 54}\n"
     ]
    }
   ],
   "source": [
    "person = {'firstName': 'John', 'lastName': 'Doe', 'age': 54}\n",
    "print(person)"
   ]
  },
  {
   "attachments": {},
   "cell_type": "markdown",
   "metadata": {},
   "source": [
    "### Accessing values\n",
    "\n",
    "Values can be accessed by using the key or with `get()`. Accessing non-existing keys raise a `KeyError`. `get()` allows to provide a default value if the key does not exist."
   ]
  },
  {
   "cell_type": "code",
   "execution_count": 26,
   "metadata": {},
   "outputs": [
    {
     "name": "stdout",
     "output_type": "stream",
     "text": [
      "54\n",
      "Doe\n",
      "Austria\n"
     ]
    }
   ],
   "source": [
    "age = person['age']\n",
    "last_name = person.get('lastName')\n",
    "print(age)\n",
    "print(last_name)\n",
    "\n",
    "country = person.get('country', 'Austria')\n",
    "print(country)\n",
    "\n",
    "# KeyError: 'country'\n",
    "# country = person['country']\n"
   ]
  },
  {
   "attachments": {},
   "cell_type": "markdown",
   "metadata": {},
   "source": [
    "### Dictionary manipulation\n",
    "\n",
    "Dictionary are mutable and can be modified."
   ]
  },
  {
   "cell_type": "code",
   "execution_count": 27,
   "metadata": {},
   "outputs": [
    {
     "name": "stdout",
     "output_type": "stream",
     "text": [
      "55\n",
      "{'firstName': 'John', 'lastName': 'Doe', 'age': 55, 'title': 'BSc.'}\n"
     ]
    }
   ],
   "source": [
    "person['age'] = 55\n",
    "print(person['age'])\n",
    "\n",
    "person['title'] = 'BSc.'\n",
    "print(person)"
   ]
  },
  {
   "attachments": {},
   "cell_type": "markdown",
   "metadata": {},
   "source": [
    "### Get items\n",
    "\n",
    "`items()` returns a view of the content of the dictionary as a list of key-value tuples."
   ]
  },
  {
   "cell_type": "code",
   "execution_count": 28,
   "metadata": {},
   "outputs": [
    {
     "name": "stdout",
     "output_type": "stream",
     "text": [
      "dict_items([('firstName', 'John'), ('lastName', 'Doe'), ('age', 55), ('title', 'BSc.')])\n",
      "dict_items([('firstName', 'John'), ('lastName', 'Doe'), ('age', 55)])\n"
     ]
    }
   ],
   "source": [
    "items = person.items()\n",
    "print(items)\n",
    "\n",
    "# view gets updated\n",
    "del person['title']\n",
    "print(items)"
   ]
  },
  {
   "attachments": {},
   "cell_type": "markdown",
   "metadata": {},
   "source": [
    "### Get keys\n",
    "\n",
    "`keys()` returns a view of the keys of the dictionary as a list."
   ]
  },
  {
   "cell_type": "code",
   "execution_count": 29,
   "metadata": {},
   "outputs": [
    {
     "name": "stdout",
     "output_type": "stream",
     "text": [
      "dict_keys(['firstName', 'lastName', 'age'])\n",
      "dict_keys(['firstName', 'lastName', 'age', 'town'])\n"
     ]
    }
   ],
   "source": [
    "keys = person.keys()\n",
    "print(keys)\n",
    "\n",
    "# view gets updated\n",
    "person['town'] = 'Innsbruck'\n",
    "print(keys)"
   ]
  },
  {
   "attachments": {},
   "cell_type": "markdown",
   "metadata": {},
   "source": [
    "### Get values\n",
    "\n",
    "`values()` returns a view of the values of the dictionary as a list.\n"
   ]
  },
  {
   "cell_type": "code",
   "execution_count": 30,
   "metadata": {},
   "outputs": [
    {
     "name": "stdout",
     "output_type": "stream",
     "text": [
      "dict_values(['John', 'Doe', 55, 'Innsbruck'])\n",
      "dict_values(['Jane', 'Doe', 55, 'Innsbruck'])\n"
     ]
    }
   ],
   "source": [
    "values = person.values()\n",
    "print(values)\n",
    "\n",
    "# view gets updated\n",
    "person['firstName'] = 'Jane'\n",
    "print(values)"
   ]
  },
  {
   "attachments": {},
   "cell_type": "markdown",
   "metadata": {},
   "source": [
    "### Working with dictionaries\n",
    "\n",
    "#### Membership test\n",
    "\n",
    "Use `in` to check if a key is in the dictionary."
   ]
  },
  {
   "cell_type": "code",
   "execution_count": 31,
   "metadata": {},
   "outputs": [
    {
     "name": "stdout",
     "output_type": "stream",
     "text": [
      "True\n",
      "False\n"
     ]
    }
   ],
   "source": [
    "has_town = 'town' in person\n",
    "has_job = 'job' in person\n",
    "\n",
    "print(has_town)\n",
    "print(has_job)"
   ]
  },
  {
   "cell_type": "markdown",
   "metadata": {},
   "source": [
    "\n",
    "\n",
    "#### Iterating\n",
    "\n",
    "Use `items()` to iterate through a dictionary."
   ]
  },
  {
   "cell_type": "code",
   "execution_count": 32,
   "metadata": {},
   "outputs": [
    {
     "name": "stdout",
     "output_type": "stream",
     "text": [
      "('firstName', 'Jane')\n",
      "('lastName', 'Doe')\n",
      "('age', 55)\n",
      "('town', 'Innsbruck')\n",
      "firstName: Jane\n",
      "lastName: Doe\n",
      "age: 55\n",
      "town: Innsbruck\n"
     ]
    }
   ],
   "source": [
    "for x in person.items():\n",
    "    print(x)\n",
    "\n",
    "# use unpacking\n",
    "for (k, v) in person.items():\n",
    "    print(f'{k}: {v}')\n"
   ]
  },
  {
   "attachments": {},
   "cell_type": "markdown",
   "metadata": {},
   "source": [
    "## Dictionary Comprehension"
   ]
  },
  {
   "cell_type": "code",
   "execution_count": 33,
   "metadata": {},
   "outputs": [
    {
     "name": "stdout",
     "output_type": "stream",
     "text": [
      "[1, 2, 3, 4, 5]\n",
      "{1: 1, 2: 4, 3: 9, 4: 16, 5: 25}\n",
      "{1: 1, 3: 9, 5: 25}\n"
     ]
    }
   ],
   "source": [
    "xs = list(range(1, 6))\n",
    "print(xs)\n",
    "\n",
    "squares = {x: x*x for x in xs}\n",
    "print(squares)\n",
    "\n",
    "squares_of_odds = {k: v for k, v in squares.items() if k % 2 == 1}\n",
    "print(squares_of_odds)\n"
   ]
  },
  {
   "attachments": {},
   "cell_type": "markdown",
   "metadata": {},
   "source": [
    "# Up next...\n",
    "\n",
    "Many more concepts like *functions*, *classes*, *imports* or *lambdas* will be covered in the following workshops."
   ]
  },
  {
   "cell_type": "markdown",
   "metadata": {},
   "source": []
  }
 ],
 "metadata": {
  "interpreter": {
   "hash": "e7370f93d1d0cde622a1f8e1c04877d8463912d04d973331ad4851f04de6915a"
  },
  "kernelspec": {
   "display_name": "Python 3.10.6 64-bit",
   "language": "python",
   "name": "python3"
  },
  "language_info": {
   "codemirror_mode": {
    "name": "ipython",
    "version": 3
   },
   "file_extension": ".py",
   "mimetype": "text/x-python",
   "name": "python",
   "nbconvert_exporter": "python",
   "pygments_lexer": "ipython3",
   "version": "3.10.6"
  },
  "orig_nbformat": 4
 },
 "nbformat": 4,
 "nbformat_minor": 2
}
