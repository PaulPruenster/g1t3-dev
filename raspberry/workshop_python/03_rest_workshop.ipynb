{
 "cells": [
  {
   "attachments": {},
   "cell_type": "markdown",
   "metadata": {},
   "source": [
    "# Python REST Live Coding\n",
    "\n",
    "Goal of this live coding session is to use Python to communicate with an existing REST API to retrieve and send data."
   ]
  },
  {
   "attachments": {},
   "cell_type": "markdown",
   "metadata": {},
   "source": [
    "## REST API\n",
    "\n",
    "In this workshow we will use the `ToDo` and `User` endpoint of [JSON Placeholder](https://jsonplaceholder.typicode.com/) which is a free fake API for testing and prototyping REST clients.\n",
    "\n",
    "### ToDo endpoint\n",
    "\n",
    "The `ToDo` endpoint [`https://jsonplaceholder.typicode.com/todos`](https://jsonplaceholder.typicode.com/todos) returns 200 ToDos:\n",
    "\n",
    "```json\n",
    "[\n",
    "  {\n",
    "    \"userId\": 1,\n",
    "    \"id\": 1,\n",
    "    \"title\": \"delectus aut autem\",\n",
    "    \"completed\": false\n",
    "  },\n",
    "...\n",
    "]\n",
    "```\n",
    "\n",
    "\n",
    "### User endpoint\n",
    "\n",
    "The `User` endpoint [`https://jsonplaceholder.typicode.com/users`](https://jsonplaceholder.typicode.com/users) returns 10 users:\n",
    "\n",
    "```json\n",
    "[\n",
    "  {\n",
    "    \"id\": 1,\n",
    "    \"name\": \"Leanne Graham\",\n",
    "    \"username\": \"Bret\",\n",
    "    \"email\": \"Sincere@april.biz\",\n",
    "    \"address\": {\n",
    "      \"street\": \"Kulas Light\",\n",
    "      \"suite\": \"Apt. 556\",\n",
    "      \"city\": \"Gwenborough\",\n",
    "      \"zipcode\": \"92998-3874\",\n",
    "      \"geo\": {\n",
    "        \"lat\": \"-37.3159\",\n",
    "        \"lng\": \"81.1496\"\n",
    "      }\n",
    "    },\n",
    "    \"phone\": \"1-770-736-8031 x56442\",\n",
    "    \"website\": \"hildegard.org\",\n",
    "    \"company\": {\n",
    "      \"name\": \"Romaguera-Crona\",\n",
    "      \"catchPhrase\": \"Multi-layered client-server neural-net\",\n",
    "      \"bs\": \"harness real-time e-markets\"\n",
    "    }\n",
    "  },\n",
    "...\n",
    "]\n",
    "```"
   ]
  },
  {
   "attachments": {},
   "cell_type": "markdown",
   "metadata": {},
   "source": [
    "## Installing REST Library\n",
    "\n",
    "The Python library [Requests](https://docs.python-requests.org/en/latest/index.html) is a simple HTTP library that makes calling REST endpoints easy and simple.\n",
    "\n",
    "Execute `pip install requests` to install the libary onto your Raspberry (or any other machine with Python)."
   ]
  },
  {
   "cell_type": "code",
   "execution_count": 2,
   "metadata": {},
   "outputs": [
    {
     "name": "stdout",
     "output_type": "stream",
     "text": [
      "Looking in indexes: https://pypi.org/simple, https://www.piwheels.org/simple\n",
      "Requirement already satisfied: requests in /usr/lib/python3/dist-packages (2.25.1)\n",
      "Note: you may need to restart the kernel to use updated packages.\n"
     ]
    }
   ],
   "source": [
    "# % is needed to install requests in Jupyter\n",
    "%pip install requests\n"
   ]
  },
  {
   "attachments": {},
   "cell_type": "markdown",
   "metadata": {},
   "source": [
    "## GET Requests"
   ]
  },
  {
   "attachments": {},
   "cell_type": "markdown",
   "metadata": {},
   "source": [
    "### GET flat objects"
   ]
  },
  {
   "attachments": {},
   "cell_type": "markdown",
   "metadata": {},
   "source": [
    "Call `todos/1` to get the ToDo with the ID `1`."
   ]
  },
  {
   "cell_type": "code",
   "execution_count": 3,
   "metadata": {},
   "outputs": [
    {
     "data": {
      "text/plain": [
       "{'userId': 1, 'id': 1, 'title': 'delectus aut autem', 'completed': False}"
      ]
     },
     "execution_count": 3,
     "metadata": {},
     "output_type": "execute_result"
    }
   ],
   "source": [
    "import requests\n",
    "api_url = \"https://jsonplaceholder.typicode.com/todos/1\"\n",
    "r_todo = requests.get(api_url)\n",
    "r_todo_json = r_todo.json()  # return dict\n",
    "r_todo_json\n"
   ]
  },
  {
   "attachments": {},
   "cell_type": "markdown",
   "metadata": {},
   "source": [
    "`response.json()` turns the returned JSON response into a python dictionary.  \n",
    "To make working with the ToDos easier, we want them to be objects of a `Todo` class.\n",
    "\n",
    "The `Todo` class is a simple python class with only a `__init__` function (constructor) and the properties given by the response object:"
   ]
  },
  {
   "cell_type": "code",
   "execution_count": 4,
   "metadata": {},
   "outputs": [],
   "source": [
    "class Todo(object):\n",
    "\n",
    "    def __init__(self, userId: int, id: int, title: str, completed: bool):\n",
    "        self.userId = userId\n",
    "        self.id = id\n",
    "        self.title = title\n",
    "        self.completed = completed\n"
   ]
  },
  {
   "attachments": {},
   "cell_type": "markdown",
   "metadata": {},
   "source": [
    "To create a object of `Todo` we can call the initializer with the respective dict values:"
   ]
  },
  {
   "cell_type": "code",
   "execution_count": 5,
   "metadata": {},
   "outputs": [
    {
     "data": {
      "text/plain": [
       "'delectus aut autem'"
      ]
     },
     "execution_count": 5,
     "metadata": {},
     "output_type": "execute_result"
    }
   ],
   "source": [
    "todo = Todo(userId=r_todo_json[\"userId\"],\n",
    "            id=r_todo_json[\"id\"],\n",
    "            title=r_todo_json[\"title\"],\n",
    "            completed=r_todo_json[\"completed\"])\n",
    "todo.title\n"
   ]
  },
  {
   "attachments": {},
   "cell_type": "markdown",
   "metadata": {},
   "source": [
    "Or, much simpler, use the `**`-*unpacking operator* which \"unpacks\" the dictionary and provides them as keywords:"
   ]
  },
  {
   "cell_type": "code",
   "execution_count": 6,
   "metadata": {},
   "outputs": [
    {
     "data": {
      "text/plain": [
       "'delectus aut autem'"
      ]
     },
     "execution_count": 6,
     "metadata": {},
     "output_type": "execute_result"
    }
   ],
   "source": [
    "todo = Todo(**r_todo_json)\n",
    "todo.title"
   ]
  },
  {
   "attachments": {},
   "cell_type": "markdown",
   "metadata": {},
   "source": [
    "This is what happens behind the scenes when unpacking a dictionary:"
   ]
  },
  {
   "cell_type": "code",
   "execution_count": 7,
   "metadata": {},
   "outputs": [
    {
     "data": {
      "text/plain": [
       "<__main__.Todo at 0x7f72611dc0>"
      ]
     },
     "execution_count": 7,
     "metadata": {},
     "output_type": "execute_result"
    }
   ],
   "source": [
    "Todo(**r_todo_json)"
   ]
  },
  {
   "attachments": {},
   "cell_type": "markdown",
   "metadata": {},
   "source": [
    "gets unpacked to"
   ]
  },
  {
   "cell_type": "code",
   "execution_count": 8,
   "metadata": {},
   "outputs": [
    {
     "data": {
      "text/plain": [
       "<__main__.Todo at 0x7f723f4a60>"
      ]
     },
     "execution_count": 8,
     "metadata": {},
     "output_type": "execute_result"
    }
   ],
   "source": [
    "Todo(userId=1, id=1, title='delectus aut autem', completed=False)"
   ]
  },
  {
   "cell_type": "markdown",
   "metadata": {},
   "source": [
    "```python\n",
    "\n",
    "```"
   ]
  },
  {
   "attachments": {},
   "cell_type": "markdown",
   "metadata": {},
   "source": [
    "### GET complex objects\n",
    "\n",
    "In contrast to the `ToDo` response which has a flat JSON structure, the `User` response has multiple nested JSON objects."
   ]
  },
  {
   "cell_type": "code",
   "execution_count": 9,
   "metadata": {},
   "outputs": [
    {
     "data": {
      "text/plain": [
       "{'id': 1,\n",
       " 'name': 'Leanne Graham',\n",
       " 'username': 'Bret',\n",
       " 'email': 'Sincere@april.biz',\n",
       " 'address': {'street': 'Kulas Light',\n",
       "  'suite': 'Apt. 556',\n",
       "  'city': 'Gwenborough',\n",
       "  'zipcode': '92998-3874',\n",
       "  'geo': {'lat': '-37.3159', 'lng': '81.1496'}},\n",
       " 'phone': '1-770-736-8031 x56442',\n",
       " 'website': 'hildegard.org',\n",
       " 'company': {'name': 'Romaguera-Crona',\n",
       "  'catchPhrase': 'Multi-layered client-server neural-net',\n",
       "  'bs': 'harness real-time e-markets'}}"
      ]
     },
     "execution_count": 9,
     "metadata": {},
     "output_type": "execute_result"
    }
   ],
   "source": [
    "import requests\n",
    "api_url = \"https://jsonplaceholder.typicode.com/users/1\"\n",
    "r_user = requests.get(api_url)\n",
    "r_user_json = r_user.json()  # return dict\n",
    "r_user_json"
   ]
  },
  {
   "attachments": {},
   "cell_type": "markdown",
   "metadata": {},
   "source": [
    "Let's create your `User` python class with all nested entities."
   ]
  },
  {
   "cell_type": "code",
   "execution_count": 10,
   "metadata": {},
   "outputs": [],
   "source": [
    "class Geo(object):\n",
    "    def __init__(self, lat: float, lng: float) -> None:\n",
    "        # shorter way to init attributes\n",
    "        self.lat, self.lng = float(lat), float(lng)\n",
    "\n",
    "\n",
    "class Address(object):\n",
    "    def __init__(self, street: str, suite: str, city: str, zipcode: str, geo: Geo) -> None:\n",
    "        self.street = street\n",
    "        self.suite = suite\n",
    "        self.city = city\n",
    "        self.zipcode = zipcode\n",
    "        self.geo = geo\n",
    "\n",
    "\n",
    "class Company(object):\n",
    "    def __init__(self, name: str, catchPhrase: str, bs: str) -> None:\n",
    "        self.name, self.catchPhrase, self.bs = name, catchPhrase, bs\n",
    "\n",
    "\n",
    "class User(object):\n",
    "\n",
    "    def __init__(self, id: int, name: str, username: str, email: str, address: Address, phone: str, website: str,\n",
    "                 company: Company):\n",
    "        self.id = id\n",
    "        self.name = name\n",
    "        self.username = username\n",
    "        self.email = email\n",
    "        self.address = address\n",
    "        self.phone = phone\n",
    "        self.website = website\n",
    "        self.company = company"
   ]
  },
  {
   "cell_type": "code",
   "execution_count": 11,
   "metadata": {},
   "outputs": [],
   "source": [
    "u = User(**r_user_json)\n",
    "\n",
    "# AttributeError: 'dict' object has no attribute 'name'\n",
    "# u.company.name"
   ]
  },
  {
   "attachments": {},
   "cell_type": "markdown",
   "metadata": {},
   "source": [
    "Pythons `json` package (which is used by the `requests` library) only allows for decoding the following python primitives ([see official documentation](https://docs.python.org/3/library/json.html#json-to-py-table)):\n",
    "\n",
    "| JSON          | Python    |\n",
    "|---------------|-----------|\n",
    "| object        | dict      |\n",
    "| array         | list      |\n",
    "| string        | str       |\n",
    "| number (int)  | int       |\n",
    "| number (real) | float     |\n",
    "| true          | True      |\n",
    "| false         | False     |\n",
    "| null          | None      |\n",
    "\n",
    "So every JSON object gets decoded to a `dict` and our unpacking trick only works for the root level dictionary.  \n",
    "Every other nested objects gets decoded to a dictionary and not to an object as we would like:"
   ]
  },
  {
   "cell_type": "code",
   "execution_count": 12,
   "metadata": {},
   "outputs": [
    {
     "data": {
      "text/plain": [
       "{'name': 'Romaguera-Crona',\n",
       " 'catchPhrase': 'Multi-layered client-server neural-net',\n",
       " 'bs': 'harness real-time e-markets'}"
      ]
     },
     "execution_count": 12,
     "metadata": {},
     "output_type": "execute_result"
    }
   ],
   "source": [
    "u.company"
   ]
  },
  {
   "attachments": {},
   "cell_type": "markdown",
   "metadata": {},
   "source": [
    "---\n",
    "\n",
    "**NOTE:**\n",
    "\n",
    "There are many ways to decode complex JSON/dicts into python objects, like\n",
    "\n",
    "* relying on *duck typing* and use helper classes like `SimpleNamespace` or `NamedTuple` in combination with `object_hook` ([examples](https://pynative.com/python-convert-json-data-into-custom-python-object/))\n",
    "* some custom generic base class implementation with type checking ([example](https://www.seanjohnsen.com/2016/11/23/pydeserialization.html))\n",
    "* use code generators like [swagger-codegen](https://github.com/swagger-api/swagger-codegen) or [openapi-python-client](https://pypi.org/project/openapi-python-client/) to auto-generate the necessary classes (e.g. requests, responses, client) from an API specification (e.g. [OpenAPI/Swagger](https://swagger.io/specification/)).\n",
    "\n",
    "In this workshop we keep it **plain python** and use **class methods** with some boilerplate code to decode complex dictionaries into our typed python classes.\n",
    "\n",
    "---"
   ]
  },
  {
   "attachments": {},
   "cell_type": "markdown",
   "metadata": {},
   "source": [
    "To be able to decode the JSON dict into a class we use a class `from_json` method on each model class:\n",
    "\n",
    "```python\n",
    "class Address(object):\n",
    "    # same __init__\n",
    "\n",
    "    @classmethod\n",
    "    def from_json(cls, json: dict):\n",
    "        geo = Geo.from_json(json.pop('geo'))\n",
    "        return cls(geo=geo, **json)\n",
    "```"
   ]
  },
  {
   "attachments": {},
   "cell_type": "markdown",
   "metadata": {},
   "source": [
    "Complete classes updated with `from_json` methods:"
   ]
  },
  {
   "cell_type": "code",
   "execution_count": 13,
   "metadata": {},
   "outputs": [],
   "source": [
    "class Geo(object):\n",
    "    def __init__(self, lat: float, lng: float) -> None:\n",
    "        self.lat, self.lng = float(lat), float(lng)\n",
    "\n",
    "    @classmethod\n",
    "    def from_json(cls, json):\n",
    "        return cls(**json)\n",
    "\n",
    "\n",
    "class Address(object):\n",
    "\n",
    "    def __init__(self, street: str, suite: str, city: str, zipcode: str, geo: Geo) -> None:\n",
    "        self.street = street\n",
    "        self.suite = suite\n",
    "        self.city = city\n",
    "        self.zipcode = zipcode\n",
    "        self.geo = geo\n",
    "\n",
    "    @classmethod\n",
    "    def from_json(cls, json: dict):\n",
    "        geo = Geo.from_json(json.pop('geo'))\n",
    "        return cls(geo=geo, **json)\n",
    "\n",
    "\n",
    "class Company(object):\n",
    "    def __init__(self, name: str, catchPhrase: str, bs: str) -> None:\n",
    "        self.name, self.catchPhrase, self.bs = name, catchPhrase, bs\n",
    "\n",
    "    @classmethod\n",
    "    def from_json(cls, json: dict):\n",
    "        return cls(**json)\n",
    "\n",
    "\n",
    "class User(object):\n",
    "\n",
    "    def __init__(self, id: int, name: str, username: str, email: str, address: Address, phone: str, website: str,\n",
    "                 company: Company):\n",
    "        self.id = id\n",
    "        self.name = name\n",
    "        self.username = username\n",
    "        self.email = email\n",
    "        self.address = address\n",
    "        self.phone = phone\n",
    "        self.website = website\n",
    "        self.company = company\n",
    "\n",
    "    @classmethod\n",
    "    def from_json(cls, json: dict):\n",
    "        address = Address.from_json(json.pop('address'))\n",
    "        company = Company.from_json(json.pop('company'))\n",
    "        return cls(address=address, company=company, **json)"
   ]
  },
  {
   "cell_type": "code",
   "execution_count": 14,
   "metadata": {},
   "outputs": [
    {
     "data": {
      "text/plain": [
       "-37.3159"
      ]
     },
     "execution_count": 14,
     "metadata": {},
     "output_type": "execute_result"
    }
   ],
   "source": [
    "u = User.from_json(r_user_json)\n",
    "u.address.geo.lat"
   ]
  },
  {
   "attachments": {},
   "cell_type": "markdown",
   "metadata": {},
   "source": [
    "## POST Requests\n",
    "\n",
    "To create objects using HTTP POST simply call `post(url, json)`. This passes the json dictionary as a JSON encoded HTTP body."
   ]
  },
  {
   "cell_type": "code",
   "execution_count": 15,
   "metadata": {},
   "outputs": [
    {
     "name": "stdout",
     "output_type": "stream",
     "text": [
      "201\n"
     ]
    },
    {
     "data": {
      "text/plain": [
       "{'userId': 14, 'id': 201, 'title': 'Do something', 'completed': False}"
      ]
     },
     "execution_count": 15,
     "metadata": {},
     "output_type": "execute_result"
    }
   ],
   "source": [
    "import requests\n",
    "api_url = \"https://jsonplaceholder.typicode.com/todos\"\n",
    "\n",
    "todo = Todo(userId=14, id=8, title='Do something', completed=False)\n",
    "\n",
    "r = requests.post(api_url, json=vars(todo))\n",
    "print(r.status_code)\n",
    "r.json()"
   ]
  },
  {
   "attachments": {},
   "cell_type": "markdown",
   "metadata": {},
   "source": [
    "## Authentication\n",
    "\n",
    "`requests` has out-of-the-box support for various forms of [authentication](https://docs.python-requests.org/en/latest/user/authentication/).\n",
    "\n",
    "For today's live coding and the Plant Health project in general, it is enough to talk about *[Basic Authentication](https://docs.python-requests.org/en/latest/user/authentication/)*.\n",
    "\n",
    "For Basic authentication the username and password are sent `base64` encoded to the server in the HTTP header field `Authorization`:\n",
    "\n",
    "`Authorization: Basic <credentials>`\n",
    "\n",
    "where `<credentials>` is the `base64` encoded string resulting from concatenating the `username` and password wit a colon.\n",
    "\n",
    "### Example\n",
    "\n",
    "User `elvis` with password `passwd` has the following plain text `<credentials>`: `elvis:passwd` which gets `base64` encoded to `ZWx2aXM6cGFzc3dk`. The resulting `Authorization` header looks like this:\n",
    "\n",
    "`Authorization: Basic ZWx2aXM6cGFzc3dk`\n",
    "\n",
    "Fortunately we don't need to combine and encode the credentials ourselfs as the `requests` library sets the correct header automatically so we only need to specify the username and password.\n",
    "\n",
    "Simply add the them with `HTTPBasicAuth('user', 'pwd')` or as tuple `('user', 'pwd')` to the requests:"
   ]
  },
  {
   "cell_type": "code",
   "execution_count": 19,
   "metadata": {},
   "outputs": [
    {
     "data": {
      "text/plain": [
       "{'authenticated': True, 'user': 'elvis'}"
      ]
     },
     "execution_count": 19,
     "metadata": {},
     "output_type": "execute_result"
    }
   ],
   "source": [
    "from requests.auth import HTTPBasicAuth\n",
    "\n",
    "auth_header = HTTPBasicAuth('elvis', 'passwd')\n",
    "\n",
    "resp = requests.get('https://httpbin.org/basic-auth/elvis/passwd',\n",
    "                    auth=auth_header)  # or auth=('elvis', 'passwd')\n",
    "resp.json()\n"
   ]
  },
  {
   "attachments": {},
   "cell_type": "markdown",
   "metadata": {},
   "source": [
    "# Live Coding\n",
    "\n",
    "## Task 1\n",
    "\n",
    "Try these samples on your Raspberry Pi to get familiar with the `requests` library.\n",
    "\n",
    "Time: ~5 mins\n",
    "\n",
    "\n",
    "\n",
    "## Task 2\n",
    "\n",
    "Start your Java backend and try to connect to the REST API and GET and POST some resources.\n",
    "\n",
    "Time: ~15 mins"
   ]
  }
 ],
 "metadata": {
  "kernelspec": {
   "display_name": "Python 3",
   "language": "python",
   "name": "python3"
  },
  "language_info": {
   "codemirror_mode": {
    "name": "ipython",
    "version": 3
   },
   "file_extension": ".py",
   "mimetype": "text/x-python",
   "name": "python",
   "nbconvert_exporter": "python",
   "pygments_lexer": "ipython3",
   "version": "3.9.2"
  },
  "orig_nbformat": 4
 },
 "nbformat": 4,
 "nbformat_minor": 2
}
