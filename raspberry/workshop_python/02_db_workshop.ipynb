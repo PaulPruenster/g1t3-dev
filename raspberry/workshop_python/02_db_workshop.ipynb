{
 "cells": [
  {
   "attachments": {},
   "cell_type": "markdown",
   "metadata": {},
   "source": [
    "# Python Database Live Coding\n",
    "\n",
    "Goal of this live coding session is to use a local database to store data in a Python application on the Raspberry Pi."
   ]
  },
  {
   "attachments": {},
   "cell_type": "markdown",
   "metadata": {},
   "source": [
    "## SQLite\n",
    "\n",
    "In this workshow we will use a [SQLite](https://www.sqlite.org/index.html) database and the [`sqlite3`](https://docs.python.org/3/library/sqlite3.html) python library to store and retrieve data.\n",
    "\n",
    "SQLite is a file-based *embedded database* written in C which is widely used by applications in almost every software aspect. All major web browsers, Android, iOS, Fedora, Lightroom, iTunes, BMW, ... either support SQLite or use a SQLite database internally. <sup>Sources [1](https://en.wikipedia.org/wiki/SQLite#Notable_uses), [2](https://www.sqlite.org/mostdeployed.html)</sup>\n",
    "\n",
    "### Advantages\n",
    "\n",
    "- easy to setup -> just use library and start\n",
    "- serverless -> no configuration and little administration\n",
    "- single file based database -> easy to migrate\n",
    "- support by many programming languages\n",
    "- small footprint < 500kB\n",
    "\n",
    "### Disadvantages\n",
    "\n",
    "- not fully SQL-92 standard\n",
    "\n",
    "### [Quirks of SQLite](https://www.sqlite.org/quirks.html)\n",
    "\n",
    "- \"flexibly typed\" -> `INSERT INTO Table (INTEGER_COLUMN) VALUES ('1234')`  is possible\n",
    "- no boolean type -> `TRUE` and `FALSE` are represented as integers `1` and `0`, respectively  \n",
    "*Note: 'TRUE', 'FALSE' can be used in SQLite but they are just aliases to `1` and `0`*\n",
    "- no dedicated `DATETIME` type -> store as *ISO-8601* `TEXT` or as *Unix Time* `INTEGER`\n",
    "- INTEGER != TEXT -> `SELECT 1='1';` returns `FALSE`\n",
    "\n",
    "### Supported SQLite Types\n",
    "\n",
    "SQLite supports the following types of data:\n",
    "\n",
    "* NULL\n",
    "* INTEGER\n",
    "* REAL\n",
    "* TEXT\n",
    "* BLOB"
   ]
  },
  {
   "attachments": {},
   "cell_type": "markdown",
   "metadata": {},
   "source": [
    "### sqlite3 Library\n",
    "\n",
    "`sqlite3` is the default python module to interact with SQlite databases and is part of the Python Standard Library and thus needs no explicit installation.\n",
    "\n",
    "The following table shows the mapping between SQLite and Python types:\n",
    "\n",
    "\n",
    "| SQLite    | Python    |\n",
    "|-----------|-----------|\n",
    "| NULL      | None      |\n",
    "| INTEGER   | int       |\n",
    "| REAL      | float     |\n",
    "| TEXT      | str       |\n",
    "| BLOB      | bytes     |\n",
    "\n",
    "\n",
    "Since SQLite has no temporal types like `datetime` or `timestamp` we need to store them in either some string or integer represenation. Luckily, `sqlite3` provides default *adapters* and *convertes* for Python's `date` and `datetime` types. To store a `date` or `datetime` in a SQLite table, create the table with the column type `date` or `timestamp` for a Python `date` or `datetime` value:\n",
    "\n",
    "```sql\n",
    "CREATE TABLE Timetable(d date, ts timestamp)\n",
    "```"
   ]
  },
  {
   "attachments": {},
   "cell_type": "markdown",
   "metadata": {},
   "source": [
    "## Create and Connect to Database\n",
    "\n",
    "Calling `connect('db')` creates a connection to the 'db' database in the current working directory. If the database does not exists it get's created."
   ]
  },
  {
   "cell_type": "code",
   "execution_count": null,
   "metadata": {},
   "outputs": [],
   "source": [
    "import sqlite3\n",
    "con = sqlite3.connect('accesspoint.db')"
   ]
  },
  {
   "attachments": {},
   "cell_type": "markdown",
   "metadata": {},
   "source": [
    "We see the newly created `accesspoint.db` in the current directory:"
   ]
  },
  {
   "cell_type": "code",
   "execution_count": null,
   "metadata": {},
   "outputs": [],
   "source": [
    "%ls"
   ]
  },
  {
   "attachments": {},
   "cell_type": "markdown",
   "metadata": {},
   "source": [
    "### Calling SQL statements\n",
    "\n",
    "Most SQL statements need a database cursor to work with SQLite. Use `cursor()` to get a cursor and `execute()` to execute SQL statemants against the connected database:"
   ]
  },
  {
   "cell_type": "code",
   "execution_count": null,
   "metadata": {},
   "outputs": [],
   "source": [
    "cur = con.cursor()\n",
    "\n",
    "# add IF NOT EXISTS to be able to execute cell multiple times\n",
    "cur.execute(\"CREATE TABLE IF NOT EXISTS measurements(type INTEGER, value REAL, dateTimeUtc datetime)\")"
   ]
  },
  {
   "attachments": {},
   "cell_type": "markdown",
   "metadata": {},
   "source": [
    "#### INSERT Part 1\n",
    "\n",
    "Now we have a table `measurements` let's insert some dummy values with an `INSERT` statement.\n",
    "\n",
    "Assume we got a temperature measurement of `20.23` degree celcius and an air humidity of `61.94%`.\n",
    "\n",
    "Our measurement types are defined as follows:\n",
    "- `1` = temperature\n",
    "- `2` = air humidity"
   ]
  },
  {
   "cell_type": "code",
   "execution_count": null,
   "metadata": {},
   "outputs": [],
   "source": [
    "cur.execute(\"\"\"\n",
    "    INSERT INTO measurements \n",
    "    VALUES  (1, 20.23, '2023-03-20 12:00:00.000000'),\n",
    "            (2, 61.94, '2023-03-20 12:00:00.000000')\n",
    "\"\"\")\n",
    "\n",
    "# INSERTs need a commit to be written to the database\n",
    "con.commit()"
   ]
  },
  {
   "attachments": {},
   "cell_type": "markdown",
   "metadata": {},
   "source": [
    "#### SELECT\n",
    "\n",
    "After inserting some date, lets retrieve the data with a `SELECT` statement and take a closer look at the result."
   ]
  },
  {
   "cell_type": "code",
   "execution_count": null,
   "metadata": {},
   "outputs": [],
   "source": [
    "result = cur.execute(\"SELECT * FROM measurements\")\n",
    "result.fetchall()"
   ]
  },
  {
   "attachments": {},
   "cell_type": "markdown",
   "metadata": {},
   "source": [
    "We can also iterate over the result:"
   ]
  },
  {
   "cell_type": "code",
   "execution_count": null,
   "metadata": {},
   "outputs": [],
   "source": [
    "result = cur.execute(\"SELECT * FROM measurements\")\n",
    "\n",
    "for result in result:\n",
    "    print(result)"
   ]
  },
  {
   "attachments": {},
   "cell_type": "markdown",
   "metadata": {},
   "source": [
    "Or get only the one result of the query which can be useful for getting a max/min row if we know it returns only one row (`LIMIT 1` clause):"
   ]
  },
  {
   "cell_type": "code",
   "execution_count": null,
   "metadata": {},
   "outputs": [],
   "source": [
    "result = cur.execute(\"SELECT * FROM measurements ORDER BY dateTimeUtc DESC LIMIT 1\")\n",
    "result.fetchone()"
   ]
  },
  {
   "attachments": {},
   "cell_type": "markdown",
   "metadata": {},
   "source": [
    "Checkout [VSCode plugin](#vscode-plugin---sqlite) for debugging."
   ]
  },
  {
   "attachments": {},
   "cell_type": "markdown",
   "metadata": {},
   "source": [
    "#### INSERT Part 2\n",
    "\n",
    "The first `INSERT` example assumed we have static data to insert, which is rarely the case *(maybe except for a initial setup script or seeding a database)*.\n",
    "\n",
    "To insert data from Python we provide the data in the same format as we got the data in our `SELECT` statement above: `list` of `tuple`s\n",
    "\n",
    "Since SQL statements are vulnverable to SQL injection attacks, we do not build the complete INSERT statement per hand with string formatting but use *placeholder* and *parameter substitution*.\n",
    "\n",
    "The following two examples show the two kinds of placesholders, *question mark placeholders* and *named placeholders*, available in the `sqlite3` module."
   ]
  },
  {
   "attachments": {},
   "cell_type": "markdown",
   "metadata": {},
   "source": [
    "##### Question Mark Placeholders\n",
    "\n",
    "Question mark placeholders are used by replacing each parameter with a `?` in the SQL statement and provide the actual parameters as a `tuple` to the `execute` call.\n",
    "\n",
    "Note: using `executemany()` allows to insert multiple rows by executing the given SQL statement for every item in the given list."
   ]
  },
  {
   "cell_type": "code",
   "execution_count": null,
   "metadata": {},
   "outputs": [],
   "source": [
    "from datetime import datetime, timedelta\n",
    "\n",
    "now = datetime.utcnow()\n",
    "\n",
    "print(f'Current time {now}')\n",
    "\n",
    "# list of tuples\n",
    "measurements = [\n",
    "    (1, 21.84, now),\n",
    "    (2, 55.10, now),\n",
    "    (1, 21.01, now + timedelta(minutes=1)),\n",
    "]\n",
    "\n",
    "cur.executemany(\"INSERT INTO measurements VALUES  (?, ?, ?)\", measurements)\n",
    "\n",
    "# INSERTs need a commit to be written to the database\n",
    "con.commit()"
   ]
  },
  {
   "attachments": {},
   "cell_type": "markdown",
   "metadata": {},
   "source": [
    "##### Named Placeholders\n",
    "\n",
    "Named placeholders are used passing the data as a `dict` instead of `tuple` to the statement and replacing the values with the dict's key."
   ]
  },
  {
   "cell_type": "code",
   "execution_count": null,
   "metadata": {},
   "outputs": [],
   "source": [
    "from datetime import datetime, timedelta\n",
    "\n",
    "now = datetime.utcnow()\n",
    "\n",
    "print(f'Current time {now}')\n",
    "\n",
    "measurements = [\n",
    "    {\"type\": 1, \"value\": 20.87, \"ts\": now},\n",
    "    {\"type\": 2, \"value\": 59.31, \"ts\": now},\n",
    "    {\"type\": 1, \"value\": 20.13, \"ts\": now + timedelta(minutes=1)},\n",
    "]\n",
    "\n",
    "cur.executemany(\"INSERT INTO measurements VALUES  (:type, :value, :ts)\", measurements)\n",
    "\n",
    "# INSERTs need a commit to be written to the database\n",
    "con.commit()\n"
   ]
  },
  {
   "attachments": {},
   "cell_type": "markdown",
   "metadata": {},
   "source": [
    "### Custom Adapters and Converters\n",
    "\n",
    "If we have a Python data type which we want to insert as a single value in a table, we need to write our own custom `sqlite3` adapters and converters.\n",
    "\n",
    "#### Adapter\n",
    "\n",
    "An **adapter** let us convert a custom Python type to a SQLite value.\n",
    "\n",
    "#### Converters\n",
    "A **converter**  is used to convert a SQLite value to a custom Python type.  \n",
    "Converters always receive a `bytes` object, regardless of the SQLite.\n",
    "\n",
    "In most cases we will need to implement both.\n",
    "\n",
    "Assume we add a `UUID` property to our measurements which uniquely identifies a measurement.\n",
    "\n",
    "In the following example we will store the UUID as a string of hex digits. Since we receive `bytes` from the converter, we need to `decode()` them to get the string representation back.\n",
    "\n",
    "Another option would be to store the UUID in it's byte representation. See [this](https://9to5answer.com/proper-way-to-store-guid-in-sqlite) example."
   ]
  },
  {
   "cell_type": "code",
   "execution_count": null,
   "metadata": {},
   "outputs": [],
   "source": [
    "import uuid\n",
    "\n",
    "def uuid_adapter(uuid: uuid.UUID):\n",
    "    return str(uuid)\n",
    "\n",
    "def uuid_converter(bytes: bytes):\n",
    "    return uuid.UUID(bytes.decode())\n",
    "\n",
    "\n",
    "sqlite3.register_adapter(uuid.UUID, uuid_adapter)\n",
    "sqlite3.register_converter('GUID', uuid_converter)\n",
    "\n",
    "# or more compact as lambdas\n",
    "sqlite3.register_adapter(uuid.UUID, lambda u: str(u))\n",
    "sqlite3.register_converter('GUID', lambda s: uuid.UUID(s.decode()))"
   ]
  },
  {
   "attachments": {},
   "cell_type": "markdown",
   "metadata": {},
   "source": [
    "Before we can use the newly registered adapter and converter we need to reconnecto to the database and tell sqlite to parse the declared custom types with `detect_types=sqlite3.PARSE_DECLTYPES`."
   ]
  },
  {
   "cell_type": "code",
   "execution_count": null,
   "metadata": {},
   "outputs": [],
   "source": [
    "con.close()\n",
    "con = sqlite3.connect('accesspoint.db', detect_types=sqlite3.PARSE_DECLTYPES)\n",
    "cur = con.cursor()\n"
   ]
  },
  {
   "attachments": {},
   "cell_type": "markdown",
   "metadata": {},
   "source": [
    "To add the UUID column to our measurements table we will use the `ALTER TABLE` statement."
   ]
  },
  {
   "cell_type": "code",
   "execution_count": null,
   "metadata": {},
   "outputs": [],
   "source": [
    "cur.execute('ALTER TABLE measurements ADD COLUMN id GUID')"
   ]
  },
  {
   "attachments": {},
   "cell_type": "markdown",
   "metadata": {},
   "source": [
    "Now we can insert and retrieve data with an uuid type."
   ]
  },
  {
   "cell_type": "code",
   "execution_count": null,
   "metadata": {},
   "outputs": [],
   "source": [
    "from datetime import datetime\n",
    "\n",
    "now = datetime.utcnow()\n",
    "\n",
    "print(f'Current time {now}')\n",
    "\n",
    "# list of tuples\n",
    "measurements = [\n",
    "    (1, 21.84, now, uuid.uuid4()),\n",
    "    (2, 55.10, now, uuid.uuid4()),\n",
    "]\n",
    "\n",
    "# inserted measurement with UUID type\n",
    "print(measurements[0])\n",
    "print(type(measurements[0][3]))\n",
    "\n",
    "cur.executemany(\"INSERT INTO measurements VALUES  (?, ?, ?, ?)\", measurements)\n",
    "\n",
    "# INSERTs need a commit to be written to the database\n",
    "con.commit()"
   ]
  },
  {
   "cell_type": "code",
   "execution_count": null,
   "metadata": {},
   "outputs": [],
   "source": [
    "result = cur.execute('SELECT * FROM measurements WHERE id NOT NULL ORDER BY dateTimeUtc DESC')\n",
    "row = result.fetchone()\n",
    "\n",
    "print(row)\n",
    "\n",
    "# type of the retrieved data is UUID\n",
    "print(type(row[3]))"
   ]
  },
  {
   "attachments": {},
   "cell_type": "markdown",
   "metadata": {},
   "source": [
    "# Live Coding\n",
    "\n",
    "## Task 1\n",
    "\n",
    "Try these samples on your Raspberry Pi to get familiar with the SQLite database and `sqlite3` module.\n",
    "\n",
    "Time: ~5 mins\n",
    "\n",
    "\n",
    "## Task 2\n",
    "\n",
    "Write two small python scripts that read and write a SQLite database.\n",
    "\n",
    "**Script `gen_measurements.py`**\n",
    "\n",
    "The script `gen_measurements.py` should generate every few seconds a random measurement and write it into the `measurements` table in the `accesspoint.db` database.\n",
    "\n",
    "**Script `get_measurements.py`**\n",
    "\n",
    "The script `get_measurements.py` should ask the user for a measurement type (`1` for temperature, `2` for humidity) and return the highest/lowest measurement (with timestamps) and the average value of the last 1 minute.\n",
    "\n",
    "\n",
    "Time: ~20 mins"
   ]
  },
  {
   "attachments": {},
   "cell_type": "markdown",
   "metadata": {},
   "source": [
    "### Helpful functions\n",
    "\n",
    "#### `sleep()`"
   ]
  },
  {
   "cell_type": "code",
   "execution_count": null,
   "metadata": {},
   "outputs": [],
   "source": [
    "import time\n",
    "\n",
    "print('good night')\n",
    "time.sleep(2)\n",
    "print('hello')"
   ]
  },
  {
   "attachments": {},
   "cell_type": "markdown",
   "metadata": {},
   "source": [
    "#### `random()`"
   ]
  },
  {
   "cell_type": "code",
   "execution_count": null,
   "metadata": {},
   "outputs": [],
   "source": [
    "import random\n",
    "\n",
    "# random integer x with 10 <= x < 20 (similar to slicing/ranges)\n",
    "print(random.randrange(10, 20))\n",
    "\n",
    "# random integer x with 10 <= x <= 20\n",
    "print(random.randint(10, 20))"
   ]
  },
  {
   "attachments": {},
   "cell_type": "markdown",
   "metadata": {},
   "source": [
    "#### `input()`"
   ]
  },
  {
   "cell_type": "code",
   "execution_count": null,
   "metadata": {},
   "outputs": [],
   "source": [
    "value = input('Enter value: ')\n",
    "print(f'Value is {value}')"
   ]
  },
  {
   "attachments": {},
   "cell_type": "markdown",
   "metadata": {},
   "source": [
    "# Appendix\n",
    "\n",
    "## VSCode plugin - SQLite\n",
    "\n",
    "VSCode has a SQLite plugin called [`SQLite`](https://marketplace.visualstudio.com/items?itemName=alexcvzz.vscode-sqlite) to explore and query SQLite databases.\n",
    "\n",
    "It makes debugging a SQLite database much easier.\n",
    "\n",
    "**NOTE:** Afer installing the plugin I needed to install sqlite3 on my raspberry (`sudo apt install sqlite3`) and reconnect VSCode to the remote raspberry (close and reopen)."
   ]
  }
 ],
 "metadata": {
  "kernelspec": {
   "display_name": "Python 3",
   "language": "python",
   "name": "python3"
  },
  "language_info": {
   "codemirror_mode": {
    "name": "ipython",
    "version": 3
   },
   "file_extension": ".py",
   "mimetype": "text/x-python",
   "name": "python",
   "nbconvert_exporter": "python",
   "pygments_lexer": "ipython3",
   "version": "3.9.2"
  },
  "orig_nbformat": 4
 },
 "nbformat": 4,
 "nbformat_minor": 2
}
